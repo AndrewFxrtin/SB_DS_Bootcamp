{
 "cells": [
  {
   "cell_type": "markdown",
   "metadata": {},
   "source": [
    "### Apple Sales Data Wrangling\n",
    "The objective of this notebook is to explore the sales data of Apple in 2024"
   ]
  },
  {
   "cell_type": "code",
   "execution_count": 2,
   "metadata": {},
   "outputs": [],
   "source": [
    "import pandas as pd\n",
    "import matplotlib.pyplot as plt\n",
    "import seaborn as sns\n",
    "from scipy.stats import shapiro"
   ]
  },
  {
   "cell_type": "code",
   "execution_count": 3,
   "metadata": {},
   "outputs": [
    {
     "data": {
      "text/html": [
       "<div>\n",
       "<style scoped>\n",
       "    .dataframe tbody tr th:only-of-type {\n",
       "        vertical-align: middle;\n",
       "    }\n",
       "\n",
       "    .dataframe tbody tr th {\n",
       "        vertical-align: top;\n",
       "    }\n",
       "\n",
       "    .dataframe thead th {\n",
       "        text-align: right;\n",
       "    }\n",
       "</style>\n",
       "<table border=\"1\" class=\"dataframe\">\n",
       "  <thead>\n",
       "    <tr style=\"text-align: right;\">\n",
       "      <th></th>\n",
       "      <th>State</th>\n",
       "      <th>Region</th>\n",
       "      <th>iPhone Sales (in million units)</th>\n",
       "      <th>iPad Sales (in million units)</th>\n",
       "      <th>Mac Sales (in million units)</th>\n",
       "      <th>Wearables (in million units)</th>\n",
       "      <th>Services Revenue (in billion $)</th>\n",
       "    </tr>\n",
       "  </thead>\n",
       "  <tbody>\n",
       "    <tr>\n",
       "      <th>0</th>\n",
       "      <td>Chongqing</td>\n",
       "      <td>Greater China</td>\n",
       "      <td>7.46</td>\n",
       "      <td>6.75</td>\n",
       "      <td>1.19</td>\n",
       "      <td>5.88</td>\n",
       "      <td>15.88</td>\n",
       "    </tr>\n",
       "    <tr>\n",
       "      <th>1</th>\n",
       "      <td>Germany</td>\n",
       "      <td>Europe</td>\n",
       "      <td>8.63</td>\n",
       "      <td>14.06</td>\n",
       "      <td>7.03</td>\n",
       "      <td>7.42</td>\n",
       "      <td>10.12</td>\n",
       "    </tr>\n",
       "    <tr>\n",
       "      <th>2</th>\n",
       "      <td>UK</td>\n",
       "      <td>Europe</td>\n",
       "      <td>5.61</td>\n",
       "      <td>14.09</td>\n",
       "      <td>8.78</td>\n",
       "      <td>8.19</td>\n",
       "      <td>19.85</td>\n",
       "    </tr>\n",
       "    <tr>\n",
       "      <th>3</th>\n",
       "      <td>Shanghai</td>\n",
       "      <td>Greater China</td>\n",
       "      <td>7.82</td>\n",
       "      <td>7.97</td>\n",
       "      <td>9.78</td>\n",
       "      <td>2.28</td>\n",
       "      <td>6.16</td>\n",
       "    </tr>\n",
       "    <tr>\n",
       "      <th>4</th>\n",
       "      <td>Thailand</td>\n",
       "      <td>Rest of Asia</td>\n",
       "      <td>16.70</td>\n",
       "      <td>8.13</td>\n",
       "      <td>6.46</td>\n",
       "      <td>3.48</td>\n",
       "      <td>13.29</td>\n",
       "    </tr>\n",
       "    <tr>\n",
       "      <th>5</th>\n",
       "      <td>Chongqing</td>\n",
       "      <td>Greater China</td>\n",
       "      <td>12.18</td>\n",
       "      <td>10.97</td>\n",
       "      <td>9.38</td>\n",
       "      <td>11.65</td>\n",
       "      <td>12.70</td>\n",
       "    </tr>\n",
       "    <tr>\n",
       "      <th>6</th>\n",
       "      <td>UK</td>\n",
       "      <td>Europe</td>\n",
       "      <td>25.47</td>\n",
       "      <td>7.41</td>\n",
       "      <td>7.18</td>\n",
       "      <td>7.56</td>\n",
       "      <td>17.20</td>\n",
       "    </tr>\n",
       "    <tr>\n",
       "      <th>7</th>\n",
       "      <td>New York</td>\n",
       "      <td>North America</td>\n",
       "      <td>22.37</td>\n",
       "      <td>6.74</td>\n",
       "      <td>4.39</td>\n",
       "      <td>3.22</td>\n",
       "      <td>16.07</td>\n",
       "    </tr>\n",
       "    <tr>\n",
       "      <th>8</th>\n",
       "      <td>Mexico</td>\n",
       "      <td>Rest of World</td>\n",
       "      <td>20.80</td>\n",
       "      <td>6.79</td>\n",
       "      <td>4.99</td>\n",
       "      <td>2.68</td>\n",
       "      <td>8.69</td>\n",
       "    </tr>\n",
       "    <tr>\n",
       "      <th>9</th>\n",
       "      <td>Italy</td>\n",
       "      <td>Europe</td>\n",
       "      <td>9.06</td>\n",
       "      <td>9.14</td>\n",
       "      <td>8.99</td>\n",
       "      <td>2.66</td>\n",
       "      <td>6.01</td>\n",
       "    </tr>\n",
       "  </tbody>\n",
       "</table>\n",
       "</div>"
      ],
      "text/plain": [
       "       State         Region  iPhone Sales (in million units)  \\\n",
       "0  Chongqing  Greater China                             7.46   \n",
       "1    Germany         Europe                             8.63   \n",
       "2         UK         Europe                             5.61   \n",
       "3   Shanghai  Greater China                             7.82   \n",
       "4   Thailand   Rest of Asia                            16.70   \n",
       "5  Chongqing  Greater China                            12.18   \n",
       "6         UK         Europe                            25.47   \n",
       "7   New York  North America                            22.37   \n",
       "8     Mexico  Rest of World                            20.80   \n",
       "9      Italy         Europe                             9.06   \n",
       "\n",
       "   iPad Sales (in million units)  Mac Sales (in million units)  \\\n",
       "0                           6.75                          1.19   \n",
       "1                          14.06                          7.03   \n",
       "2                          14.09                          8.78   \n",
       "3                           7.97                          9.78   \n",
       "4                           8.13                          6.46   \n",
       "5                          10.97                          9.38   \n",
       "6                           7.41                          7.18   \n",
       "7                           6.74                          4.39   \n",
       "8                           6.79                          4.99   \n",
       "9                           9.14                          8.99   \n",
       "\n",
       "   Wearables (in million units)  Services Revenue (in billion $)  \n",
       "0                          5.88                            15.88  \n",
       "1                          7.42                            10.12  \n",
       "2                          8.19                            19.85  \n",
       "3                          2.28                             6.16  \n",
       "4                          3.48                            13.29  \n",
       "5                         11.65                            12.70  \n",
       "6                          7.56                            17.20  \n",
       "7                          3.22                            16.07  \n",
       "8                          2.68                             8.69  \n",
       "9                          2.66                             6.01  "
      ]
     },
     "execution_count": 3,
     "metadata": {},
     "output_type": "execute_result"
    }
   ],
   "source": [
    "# First, we read the data\n",
    "df = pd.read_csv('/Users/andrew/Desktop/apple_sales_2024.csv')\n",
    "\n",
    "# Lets look at the first 10 rows\n",
    "df.head(10)"
   ]
  },
  {
   "cell_type": "markdown",
   "metadata": {},
   "source": [
    "What sort of data are we working with?"
   ]
  },
  {
   "cell_type": "code",
   "execution_count": 4,
   "metadata": {},
   "outputs": [
    {
     "name": "stdout",
     "output_type": "stream",
     "text": [
      "<class 'pandas.core.frame.DataFrame'>\n",
      "RangeIndex: 1000 entries, 0 to 999\n",
      "Data columns (total 7 columns):\n",
      " #   Column                           Non-Null Count  Dtype  \n",
      "---  ------                           --------------  -----  \n",
      " 0   State                            1000 non-null   object \n",
      " 1   Region                           1000 non-null   object \n",
      " 2   iPhone Sales (in million units)  1000 non-null   float64\n",
      " 3   iPad Sales (in million units)    1000 non-null   float64\n",
      " 4   Mac Sales (in million units)     1000 non-null   float64\n",
      " 5   Wearables (in million units)     1000 non-null   float64\n",
      " 6   Services Revenue (in billion $)  1000 non-null   float64\n",
      "dtypes: float64(5), object(2)\n",
      "memory usage: 54.8+ KB\n"
     ]
    }
   ],
   "source": [
    "# Lets see what kind of data we are working with\n",
    "df.info()"
   ]
  },
  {
   "cell_type": "markdown",
   "metadata": {},
   "source": [
    "What is the shape of our dataframe?"
   ]
  },
  {
   "cell_type": "code",
   "execution_count": 5,
   "metadata": {},
   "outputs": [
    {
     "data": {
      "text/plain": [
       "(1000, 7)"
      ]
     },
     "execution_count": 5,
     "metadata": {},
     "output_type": "execute_result"
    }
   ],
   "source": [
    "# Lets look at the shape of the data\n",
    "df.shape"
   ]
  },
  {
   "cell_type": "markdown",
   "metadata": {},
   "source": [
    "Are there any missing values we should be aware of?"
   ]
  },
  {
   "cell_type": "code",
   "execution_count": 6,
   "metadata": {},
   "outputs": [
    {
     "data": {
      "text/plain": [
       "State                              0\n",
       "Region                             0\n",
       "iPhone Sales (in million units)    0\n",
       "iPad Sales (in million units)      0\n",
       "Mac Sales (in million units)       0\n",
       "Wearables (in million units)       0\n",
       "Services Revenue (in billion $)    0\n",
       "dtype: int64"
      ]
     },
     "execution_count": 6,
     "metadata": {},
     "output_type": "execute_result"
    }
   ],
   "source": [
    "# Lets see if there are any missing values\n",
    "df.isnull().sum()"
   ]
  },
  {
   "cell_type": "markdown",
   "metadata": {},
   "source": [
    "Looking at our data, we see that we have the sales of different products per state and region, and also the sales revenue for 2024. This makes me wonder, **does increased services revenue lead to increased units sold per city/state?**"
   ]
  },
  {
   "cell_type": "code",
   "execution_count": 7,
   "metadata": {},
   "outputs": [],
   "source": [
    "# Lets make the columns easier to call on\n",
    "newcolumns = ['State', 'Region', 'iPhone_sales', 'iPad_sales', 'Mac_sales', 'Wearable_sales', 'Services_Revenue']\n",
    "\n",
    "df.columns = newcolumns"
   ]
  },
  {
   "cell_type": "markdown",
   "metadata": {},
   "source": [
    "Are there any duplicate rows in the data?"
   ]
  },
  {
   "cell_type": "code",
   "execution_count": 8,
   "metadata": {},
   "outputs": [
    {
     "data": {
      "text/plain": [
       "0"
      ]
     },
     "execution_count": 8,
     "metadata": {},
     "output_type": "execute_result"
    }
   ],
   "source": [
    "# Check for duplicate rows\n",
    "df.duplicated().sum()"
   ]
  },
  {
   "cell_type": "markdown",
   "metadata": {},
   "source": [
    "In this case, since this is summarized data already, there is no need to check for outliers. Since there are no duplicates or missing values to investigate, we can start exploring the data. Its worth noting that all of the sales data is by million units, whereas the services revenue is measured in billions USD."
   ]
  },
  {
   "cell_type": "code",
   "execution_count": 9,
   "metadata": {},
   "outputs": [
    {
     "data": {
      "image/png": "[encoded data removed]",
      "text/plain": [
       "<Figure size 600x400 with 1 Axes>"
      ]
     },
     "metadata": {},
     "output_type": "display_data"
    },
    {
     "data": {
      "image/png": "[encoded data removed]",
      "text/plain": [
       "<Figure size 600x400 with 1 Axes>"
      ]
     },
     "metadata": {},
     "output_type": "display_data"
    },
    {
     "data": {
      "image/png": "[encoded data removed]",
      "text/plain": [
       "<Figure size 600x400 with 1 Axes>"
      ]
     },
     "metadata": {},
     "output_type": "display_data"
    },
    {
     "data": {
      "image/png": "[encoded data removed]",
      "text/plain": [
       "<Figure size 600x400 with 1 Axes>"
      ]
     },
     "metadata": {},
     "output_type": "display_data"
    },
    {
     "data": {
      "image/png": "[encoded data removed]",
      "text/plain": [
       "<Figure size 600x400 with 1 Axes>"
      ]
     },
     "metadata": {},
     "output_type": "display_data"
    }
   ],
   "source": [
    "# First, lets look at the distribution of sales in each column\n",
    "\n",
    "numeric_df = df.select_dtypes(include='number')\n",
    "\n",
    "for column in numeric_df.columns:\n",
    "    plt.figure(figsize=(6,4))\n",
    "    sns.histplot(df[column], bins=20)\n",
    "    plt.title(f'{column} in 2024 Distribution')\n",
    "    plt.show();"
   ]
  },
  {
   "cell_type": "markdown",
   "metadata": {},
   "source": [
    "There doesnt seem to be a level of order to the data. Is the data normally distributed?"
   ]
  },
  {
   "cell_type": "code",
   "execution_count": 10,
   "metadata": {},
   "outputs": [
    {
     "name": "stdout",
     "output_type": "stream",
     "text": [
      "Shapiro-Wilk Test P-value for iPhone_sales: 2.6856486245759104e-17\n",
      "iPhone_sales is not normally distributed.\n",
      "Shapiro-Wilk Test P-value for iPad_sales: 1.1940058346327815e-16\n",
      "iPad_sales is not normally distributed.\n",
      "Shapiro-Wilk Test P-value for Mac_sales: 2.0699422800563864e-15\n",
      "Mac_sales is not normally distributed.\n",
      "Shapiro-Wilk Test P-value for Wearable_sales: 4.030222606166438e-18\n",
      "Wearable_sales is not normally distributed.\n",
      "Shapiro-Wilk Test P-value for Services_Revenue: 5.962442559813638e-17\n",
      "Services_Revenue is not normally distributed.\n"
     ]
    }
   ],
   "source": [
    "# The data does not seem to have a level of order to it..\n",
    "# Test using shapiro-wilk test\n",
    "\n",
    "for column in numeric_df.columns:\n",
    "        stat, p_val = shapiro(df[column])\n",
    "        print(f\"Shapiro-Wilk Test P-value for {column}: {p_val}\")\n",
    "        if p_val > 0.05:\n",
    "                print(f\"{column} is normally distributed.\")\n",
    "        else:\n",
    "                print(f\"{column} is not normally distributed.\")\n"
   ]
  },
  {
   "cell_type": "markdown",
   "metadata": {},
   "source": [
    "The data is not normally distributed across any column in the datset."
   ]
  },
  {
   "cell_type": "code",
   "execution_count": 11,
   "metadata": {},
   "outputs": [
    {
     "data": {
      "text/html": [
       "<div>\n",
       "<style scoped>\n",
       "    .dataframe tbody tr th:only-of-type {\n",
       "        vertical-align: middle;\n",
       "    }\n",
       "\n",
       "    .dataframe tbody tr th {\n",
       "        vertical-align: top;\n",
       "    }\n",
       "\n",
       "    .dataframe thead th {\n",
       "        text-align: right;\n",
       "    }\n",
       "</style>\n",
       "<table border=\"1\" class=\"dataframe\">\n",
       "  <thead>\n",
       "    <tr style=\"text-align: right;\">\n",
       "      <th></th>\n",
       "      <th>State</th>\n",
       "      <th>Region</th>\n",
       "      <th>iPhone_sales</th>\n",
       "      <th>iPad_sales</th>\n",
       "      <th>Mac_sales</th>\n",
       "      <th>Wearable_sales</th>\n",
       "      <th>Services_Revenue</th>\n",
       "    </tr>\n",
       "  </thead>\n",
       "  <tbody>\n",
       "    <tr>\n",
       "      <th>743</th>\n",
       "      <td>Italy</td>\n",
       "      <td>Europe</td>\n",
       "      <td>29.94</td>\n",
       "      <td>14.17</td>\n",
       "      <td>1.40</td>\n",
       "      <td>9.29</td>\n",
       "      <td>5.27</td>\n",
       "    </tr>\n",
       "    <tr>\n",
       "      <th>866</th>\n",
       "      <td>Indonesia</td>\n",
       "      <td>Rest of Asia</td>\n",
       "      <td>29.92</td>\n",
       "      <td>2.07</td>\n",
       "      <td>5.05</td>\n",
       "      <td>2.68</td>\n",
       "      <td>8.50</td>\n",
       "    </tr>\n",
       "    <tr>\n",
       "      <th>34</th>\n",
       "      <td>Brazil</td>\n",
       "      <td>Rest of World</td>\n",
       "      <td>29.86</td>\n",
       "      <td>9.45</td>\n",
       "      <td>9.67</td>\n",
       "      <td>3.92</td>\n",
       "      <td>6.25</td>\n",
       "    </tr>\n",
       "  </tbody>\n",
       "</table>\n",
       "</div>"
      ],
      "text/plain": [
       "         State         Region  iPhone_sales  iPad_sales  Mac_sales  \\\n",
       "743      Italy         Europe         29.94       14.17       1.40   \n",
       "866  Indonesia   Rest of Asia         29.92        2.07       5.05   \n",
       "34      Brazil  Rest of World         29.86        9.45       9.67   \n",
       "\n",
       "     Wearable_sales  Services_Revenue  \n",
       "743            9.29              5.27  \n",
       "866            2.68              8.50  \n",
       "34             3.92              6.25  "
      ]
     },
     "execution_count": 11,
     "metadata": {},
     "output_type": "execute_result"
    }
   ],
   "source": [
    "#Lets see what states had the highest iPhone sales in 2024\n",
    "sorted_df = df.sort_values(by='iPhone_sales', ascending=False)\n",
    "sorted_df.head(3)"
   ]
  },
  {
   "cell_type": "markdown",
   "metadata": {},
   "source": [
    "Italy had the highest number of iphones sold in 2024, with 29.94 million units. Indonesia was a close second, with Brazil third."
   ]
  },
  {
   "cell_type": "code",
   "execution_count": 12,
   "metadata": {},
   "outputs": [
    {
     "data": {
      "text/html": [
       "<div>\n",
       "<style scoped>\n",
       "    .dataframe tbody tr th:only-of-type {\n",
       "        vertical-align: middle;\n",
       "    }\n",
       "\n",
       "    .dataframe tbody tr th {\n",
       "        vertical-align: top;\n",
       "    }\n",
       "\n",
       "    .dataframe thead th {\n",
       "        text-align: right;\n",
       "    }\n",
       "</style>\n",
       "<table border=\"1\" class=\"dataframe\">\n",
       "  <thead>\n",
       "    <tr style=\"text-align: right;\">\n",
       "      <th></th>\n",
       "      <th>State</th>\n",
       "      <th>Region</th>\n",
       "      <th>iPhone_sales</th>\n",
       "      <th>iPad_sales</th>\n",
       "      <th>Mac_sales</th>\n",
       "      <th>Wearable_sales</th>\n",
       "      <th>Services_Revenue</th>\n",
       "    </tr>\n",
       "  </thead>\n",
       "  <tbody>\n",
       "    <tr>\n",
       "      <th>841</th>\n",
       "      <td>Canada</td>\n",
       "      <td>Rest of World</td>\n",
       "      <td>25.48</td>\n",
       "      <td>14.99</td>\n",
       "      <td>4.38</td>\n",
       "      <td>5.75</td>\n",
       "      <td>19.14</td>\n",
       "    </tr>\n",
       "    <tr>\n",
       "      <th>760</th>\n",
       "      <td>Chongqing</td>\n",
       "      <td>Greater China</td>\n",
       "      <td>24.55</td>\n",
       "      <td>14.99</td>\n",
       "      <td>4.45</td>\n",
       "      <td>2.41</td>\n",
       "      <td>8.94</td>\n",
       "    </tr>\n",
       "    <tr>\n",
       "      <th>795</th>\n",
       "      <td>Shenzhen</td>\n",
       "      <td>Greater China</td>\n",
       "      <td>17.34</td>\n",
       "      <td>14.99</td>\n",
       "      <td>4.76</td>\n",
       "      <td>7.99</td>\n",
       "      <td>13.08</td>\n",
       "    </tr>\n",
       "  </tbody>\n",
       "</table>\n",
       "</div>"
      ],
      "text/plain": [
       "         State         Region  iPhone_sales  iPad_sales  Mac_sales  \\\n",
       "841     Canada  Rest of World         25.48       14.99       4.38   \n",
       "760  Chongqing  Greater China         24.55       14.99       4.45   \n",
       "795   Shenzhen  Greater China         17.34       14.99       4.76   \n",
       "\n",
       "     Wearable_sales  Services_Revenue  \n",
       "841            5.75             19.14  \n",
       "760            2.41              8.94  \n",
       "795            7.99             13.08  "
      ]
     },
     "execution_count": 12,
     "metadata": {},
     "output_type": "execute_result"
    }
   ],
   "source": [
    "#Lets see what states had the highest iPad sales\n",
    "sorted_df = df.sort_values(by='iPad_sales', ascending=False)\n",
    "sorted_df.head(3)"
   ]
  },
  {
   "cell_type": "markdown",
   "metadata": {},
   "source": [
    "iPad sales in 2024 was a three way tie between Canada, Chongqing, and Shenzhen."
   ]
  },
  {
   "cell_type": "code",
   "execution_count": 13,
   "metadata": {},
   "outputs": [
    {
     "data": {
      "text/html": [
       "<div>\n",
       "<style scoped>\n",
       "    .dataframe tbody tr th:only-of-type {\n",
       "        vertical-align: middle;\n",
       "    }\n",
       "\n",
       "    .dataframe tbody tr th {\n",
       "        vertical-align: top;\n",
       "    }\n",
       "\n",
       "    .dataframe thead th {\n",
       "        text-align: right;\n",
       "    }\n",
       "</style>\n",
       "<table border=\"1\" class=\"dataframe\">\n",
       "  <thead>\n",
       "    <tr style=\"text-align: right;\">\n",
       "      <th></th>\n",
       "      <th>State</th>\n",
       "      <th>Region</th>\n",
       "      <th>iPhone_sales</th>\n",
       "      <th>iPad_sales</th>\n",
       "      <th>Mac_sales</th>\n",
       "      <th>Wearable_sales</th>\n",
       "      <th>Services_Revenue</th>\n",
       "    </tr>\n",
       "  </thead>\n",
       "  <tbody>\n",
       "    <tr>\n",
       "      <th>347</th>\n",
       "      <td>South Korea</td>\n",
       "      <td>Rest of Asia</td>\n",
       "      <td>25.46</td>\n",
       "      <td>12.24</td>\n",
       "      <td>9.99</td>\n",
       "      <td>3.10</td>\n",
       "      <td>17.26</td>\n",
       "    </tr>\n",
       "    <tr>\n",
       "      <th>89</th>\n",
       "      <td>Chongqing</td>\n",
       "      <td>Greater China</td>\n",
       "      <td>22.70</td>\n",
       "      <td>7.95</td>\n",
       "      <td>9.98</td>\n",
       "      <td>9.73</td>\n",
       "      <td>15.48</td>\n",
       "    </tr>\n",
       "    <tr>\n",
       "      <th>104</th>\n",
       "      <td>Shanghai</td>\n",
       "      <td>Greater China</td>\n",
       "      <td>9.25</td>\n",
       "      <td>2.44</td>\n",
       "      <td>9.97</td>\n",
       "      <td>6.05</td>\n",
       "      <td>15.74</td>\n",
       "    </tr>\n",
       "  </tbody>\n",
       "</table>\n",
       "</div>"
      ],
      "text/plain": [
       "           State         Region  iPhone_sales  iPad_sales  Mac_sales  \\\n",
       "347  South Korea   Rest of Asia         25.46       12.24       9.99   \n",
       "89     Chongqing  Greater China         22.70        7.95       9.98   \n",
       "104     Shanghai  Greater China          9.25        2.44       9.97   \n",
       "\n",
       "     Wearable_sales  Services_Revenue  \n",
       "347            3.10             17.26  \n",
       "89             9.73             15.48  \n",
       "104            6.05             15.74  "
      ]
     },
     "execution_count": 13,
     "metadata": {},
     "output_type": "execute_result"
    }
   ],
   "source": [
    "# What about iMacs?\n",
    "sorted_df = df.sort_values(by='Mac_sales', ascending=False)\n",
    "sorted_df.head(3)"
   ]
  },
  {
   "cell_type": "markdown",
   "metadata": {},
   "source": [
    "iMacs were sold the most in South Korea with close to a 10 million units sold in 2024, with chongqing and shanghai in second and third, respectively."
   ]
  },
  {
   "cell_type": "code",
   "execution_count": 14,
   "metadata": {},
   "outputs": [
    {
     "data": {
      "text/html": [
       "<div>\n",
       "<style scoped>\n",
       "    .dataframe tbody tr th:only-of-type {\n",
       "        vertical-align: middle;\n",
       "    }\n",
       "\n",
       "    .dataframe tbody tr th {\n",
       "        vertical-align: top;\n",
       "    }\n",
       "\n",
       "    .dataframe thead th {\n",
       "        text-align: right;\n",
       "    }\n",
       "</style>\n",
       "<table border=\"1\" class=\"dataframe\">\n",
       "  <thead>\n",
       "    <tr style=\"text-align: right;\">\n",
       "      <th></th>\n",
       "      <th>State</th>\n",
       "      <th>Region</th>\n",
       "      <th>iPhone_sales</th>\n",
       "      <th>iPad_sales</th>\n",
       "      <th>Mac_sales</th>\n",
       "      <th>Wearable_sales</th>\n",
       "      <th>Services_Revenue</th>\n",
       "    </tr>\n",
       "  </thead>\n",
       "  <tbody>\n",
       "    <tr>\n",
       "      <th>409</th>\n",
       "      <td>Texas</td>\n",
       "      <td>North America</td>\n",
       "      <td>25.12</td>\n",
       "      <td>2.84</td>\n",
       "      <td>6.93</td>\n",
       "      <td>12.00</td>\n",
       "      <td>13.02</td>\n",
       "    </tr>\n",
       "    <tr>\n",
       "      <th>163</th>\n",
       "      <td>Beijing</td>\n",
       "      <td>Greater China</td>\n",
       "      <td>13.45</td>\n",
       "      <td>6.05</td>\n",
       "      <td>8.29</td>\n",
       "      <td>11.99</td>\n",
       "      <td>11.45</td>\n",
       "    </tr>\n",
       "    <tr>\n",
       "      <th>893</th>\n",
       "      <td>Chongqing</td>\n",
       "      <td>Greater China</td>\n",
       "      <td>23.73</td>\n",
       "      <td>6.13</td>\n",
       "      <td>2.23</td>\n",
       "      <td>11.98</td>\n",
       "      <td>17.50</td>\n",
       "    </tr>\n",
       "  </tbody>\n",
       "</table>\n",
       "</div>"
      ],
      "text/plain": [
       "         State         Region  iPhone_sales  iPad_sales  Mac_sales  \\\n",
       "409      Texas  North America         25.12        2.84       6.93   \n",
       "163    Beijing  Greater China         13.45        6.05       8.29   \n",
       "893  Chongqing  Greater China         23.73        6.13       2.23   \n",
       "\n",
       "     Wearable_sales  Services_Revenue  \n",
       "409           12.00             13.02  \n",
       "163           11.99             11.45  \n",
       "893           11.98             17.50  "
      ]
     },
     "execution_count": 14,
     "metadata": {},
     "output_type": "execute_result"
    }
   ],
   "source": [
    "# and wearables?\n",
    "sorted_df = df.sort_values(by='Wearable_sales', ascending=False)\n",
    "sorted_df.head(3)"
   ]
  },
  {
   "cell_type": "markdown",
   "metadata": {},
   "source": [
    "Texas sold the most wearables, with 12 million units in 2024, with beijing and Chongqing in second and third place in sales.\n",
    "\n",
    "Greater Chinese cities seem to be appearing high in sales under alot of categories.. I wonder what state / city had the most total units sold?"
   ]
  },
  {
   "cell_type": "code",
   "execution_count": 15,
   "metadata": {},
   "outputs": [
    {
     "data": {
      "text/html": [
       "<div>\n",
       "<style scoped>\n",
       "    .dataframe tbody tr th:only-of-type {\n",
       "        vertical-align: middle;\n",
       "    }\n",
       "\n",
       "    .dataframe tbody tr th {\n",
       "        vertical-align: top;\n",
       "    }\n",
       "\n",
       "    .dataframe thead th {\n",
       "        text-align: right;\n",
       "    }\n",
       "</style>\n",
       "<table border=\"1\" class=\"dataframe\">\n",
       "  <thead>\n",
       "    <tr style=\"text-align: right;\">\n",
       "      <th></th>\n",
       "      <th>State</th>\n",
       "      <th>Region</th>\n",
       "      <th>iPhone_sales</th>\n",
       "      <th>iPad_sales</th>\n",
       "      <th>Mac_sales</th>\n",
       "      <th>Wearable_sales</th>\n",
       "      <th>Services_Revenue</th>\n",
       "      <th>Total_sales</th>\n",
       "    </tr>\n",
       "  </thead>\n",
       "  <tbody>\n",
       "    <tr>\n",
       "      <th>840</th>\n",
       "      <td>Hong Kong</td>\n",
       "      <td>Greater China</td>\n",
       "      <td>25.85</td>\n",
       "      <td>14.77</td>\n",
       "      <td>8.96</td>\n",
       "      <td>10.93</td>\n",
       "      <td>8.59</td>\n",
       "      <td>60.51</td>\n",
       "    </tr>\n",
       "    <tr>\n",
       "      <th>416</th>\n",
       "      <td>Mexico</td>\n",
       "      <td>Rest of World</td>\n",
       "      <td>29.53</td>\n",
       "      <td>10.31</td>\n",
       "      <td>7.85</td>\n",
       "      <td>11.47</td>\n",
       "      <td>12.62</td>\n",
       "      <td>59.16</td>\n",
       "    </tr>\n",
       "    <tr>\n",
       "      <th>963</th>\n",
       "      <td>Florida</td>\n",
       "      <td>North America</td>\n",
       "      <td>26.52</td>\n",
       "      <td>13.91</td>\n",
       "      <td>7.20</td>\n",
       "      <td>10.97</td>\n",
       "      <td>15.44</td>\n",
       "      <td>58.60</td>\n",
       "    </tr>\n",
       "  </tbody>\n",
       "</table>\n",
       "</div>"
      ],
      "text/plain": [
       "         State         Region  iPhone_sales  iPad_sales  Mac_sales  \\\n",
       "840  Hong Kong  Greater China         25.85       14.77       8.96   \n",
       "416     Mexico  Rest of World         29.53       10.31       7.85   \n",
       "963    Florida  North America         26.52       13.91       7.20   \n",
       "\n",
       "     Wearable_sales  Services_Revenue  Total_sales  \n",
       "840           10.93              8.59        60.51  \n",
       "416           11.47             12.62        59.16  \n",
       "963           10.97             15.44        58.60  "
      ]
     },
     "execution_count": 15,
     "metadata": {},
     "output_type": "execute_result"
    }
   ],
   "source": [
    "# Calculate total units sold across product\n",
    "df['Total_sales'] = df['Mac_sales'] + df['iPad_sales'] + df['iPhone_sales'] + df['Wearable_sales']\n",
    "\n",
    "#Sort by total sales\n",
    "sorted_df = df.sort_values(by='Total_sales', ascending=False)\n",
    "sorted_df.head(3)"
   ]
  },
  {
   "cell_type": "markdown",
   "metadata": {},
   "source": [
    "Hong kong had the highest sales, with 60.51 million sold across product lines in 2024. Mexico was second with 59.16 million, and Florida ranked third with 58.60 million."
   ]
  },
  {
   "cell_type": "code",
   "execution_count": 16,
   "metadata": {},
   "outputs": [
    {
     "data": {
      "text/html": [
       "<div>\n",
       "<style scoped>\n",
       "    .dataframe tbody tr th:only-of-type {\n",
       "        vertical-align: middle;\n",
       "    }\n",
       "\n",
       "    .dataframe tbody tr th {\n",
       "        vertical-align: top;\n",
       "    }\n",
       "\n",
       "    .dataframe thead th {\n",
       "        text-align: right;\n",
       "    }\n",
       "</style>\n",
       "<table border=\"1\" class=\"dataframe\">\n",
       "  <thead>\n",
       "    <tr style=\"text-align: right;\">\n",
       "      <th></th>\n",
       "      <th>State</th>\n",
       "      <th>Region</th>\n",
       "      <th>iPhone_sales</th>\n",
       "      <th>iPad_sales</th>\n",
       "      <th>Mac_sales</th>\n",
       "      <th>Wearable_sales</th>\n",
       "      <th>Services_Revenue</th>\n",
       "      <th>Total_sales</th>\n",
       "    </tr>\n",
       "  </thead>\n",
       "  <tbody>\n",
       "    <tr>\n",
       "      <th>235</th>\n",
       "      <td>Brazil</td>\n",
       "      <td>Rest of World</td>\n",
       "      <td>8.05</td>\n",
       "      <td>14.28</td>\n",
       "      <td>9.69</td>\n",
       "      <td>7.68</td>\n",
       "      <td>19.92</td>\n",
       "      <td>39.70</td>\n",
       "    </tr>\n",
       "    <tr>\n",
       "      <th>492</th>\n",
       "      <td>Beijing</td>\n",
       "      <td>Greater China</td>\n",
       "      <td>18.81</td>\n",
       "      <td>12.84</td>\n",
       "      <td>2.24</td>\n",
       "      <td>9.83</td>\n",
       "      <td>19.90</td>\n",
       "      <td>43.72</td>\n",
       "    </tr>\n",
       "    <tr>\n",
       "      <th>100</th>\n",
       "      <td>Japan</td>\n",
       "      <td>Rest of Asia</td>\n",
       "      <td>16.41</td>\n",
       "      <td>2.51</td>\n",
       "      <td>9.37</td>\n",
       "      <td>3.91</td>\n",
       "      <td>19.89</td>\n",
       "      <td>32.20</td>\n",
       "    </tr>\n",
       "  </tbody>\n",
       "</table>\n",
       "</div>"
      ],
      "text/plain": [
       "       State         Region  iPhone_sales  iPad_sales  Mac_sales  \\\n",
       "235   Brazil  Rest of World          8.05       14.28       9.69   \n",
       "492  Beijing  Greater China         18.81       12.84       2.24   \n",
       "100    Japan   Rest of Asia         16.41        2.51       9.37   \n",
       "\n",
       "     Wearable_sales  Services_Revenue  Total_sales  \n",
       "235            7.68             19.92        39.70  \n",
       "492            9.83             19.90        43.72  \n",
       "100            3.91             19.89        32.20  "
      ]
     },
     "execution_count": 16,
     "metadata": {},
     "output_type": "execute_result"
    }
   ],
   "source": [
    "# What state / city generated the most revenue from services offerings?\n",
    "#Sort by services revenue\n",
    "sorted_df = df.sort_values(by='Services_Revenue', ascending=False)\n",
    "sorted_df.head(3)"
   ]
  },
  {
   "cell_type": "markdown",
   "metadata": {},
   "source": [
    "Brazil generated the most by services, with 19.92 billion dollars in revenue. Beijing and Japan were close, with 19.90 billion and 19.89 billion, respectively. I wonder what the average number of units sold was per state / city?"
   ]
  },
  {
   "cell_type": "code",
   "execution_count": 33,
   "metadata": {},
   "outputs": [
    {
     "name": "stdout",
     "output_type": "stream",
     "text": [
      "The average iPhone_sales per State/City in 2024 was 17.44 million units sold.\n",
      "The average iPad_sales per State/City in 2024 was 8.57 million units sold.\n",
      "The average Mac_sales per State/City in 2024 was 5.56 million units sold.\n",
      "The average Wearable_sales per State/City in 2024 was 6.94 million units sold.\n",
      "The average Services_Revenue sales in billions for services offerings per State/City in 2024 was 12.45 billion.\n"
     ]
    }
   ],
   "source": [
    "for column in numeric_df.columns:\n",
    "    avg = df[column].mean()\n",
    "    if column == 'Services_Revenue':\n",
    "        print(f'The average {column} sales in billions for services offerings per State/City in 2024 was {avg:.2f} billion.')\n",
    "    else:\n",
    "        print(f\"The average {column} per State/City in 2024 was {avg:.2f} million units sold.\")"
   ]
  },
  {
   "cell_type": "markdown",
   "metadata": {},
   "source": [
    " Now that we explored the top states, lets explore the data by region."
   ]
  },
  {
   "cell_type": "code",
   "execution_count": 17,
   "metadata": {},
   "outputs": [
    {
     "data": {
      "text/html": [
       "<div>\n",
       "<style scoped>\n",
       "    .dataframe tbody tr th:only-of-type {\n",
       "        vertical-align: middle;\n",
       "    }\n",
       "\n",
       "    .dataframe tbody tr th {\n",
       "        vertical-align: top;\n",
       "    }\n",
       "\n",
       "    .dataframe thead th {\n",
       "        text-align: right;\n",
       "    }\n",
       "</style>\n",
       "<table border=\"1\" class=\"dataframe\">\n",
       "  <thead>\n",
       "    <tr style=\"text-align: right;\">\n",
       "      <th></th>\n",
       "      <th>iPhone_sales</th>\n",
       "      <th>iPad_sales</th>\n",
       "      <th>Mac_sales</th>\n",
       "      <th>Wearable_sales</th>\n",
       "      <th>Services_Revenue</th>\n",
       "      <th>Total_sales</th>\n",
       "    </tr>\n",
       "    <tr>\n",
       "      <th>Region</th>\n",
       "      <th></th>\n",
       "      <th></th>\n",
       "      <th></th>\n",
       "      <th></th>\n",
       "      <th></th>\n",
       "      <th></th>\n",
       "    </tr>\n",
       "  </thead>\n",
       "  <tbody>\n",
       "    <tr>\n",
       "      <th>Europe</th>\n",
       "      <td>3563.12</td>\n",
       "      <td>1745.66</td>\n",
       "      <td>1111.22</td>\n",
       "      <td>1353.12</td>\n",
       "      <td>2416.30</td>\n",
       "      <td>7773.12</td>\n",
       "    </tr>\n",
       "    <tr>\n",
       "      <th>Greater China</th>\n",
       "      <td>3868.28</td>\n",
       "      <td>1862.95</td>\n",
       "      <td>1212.80</td>\n",
       "      <td>1514.86</td>\n",
       "      <td>2780.72</td>\n",
       "      <td>8458.89</td>\n",
       "    </tr>\n",
       "    <tr>\n",
       "      <th>North America</th>\n",
       "      <td>3124.14</td>\n",
       "      <td>1625.44</td>\n",
       "      <td>1028.96</td>\n",
       "      <td>1272.92</td>\n",
       "      <td>2281.21</td>\n",
       "      <td>7051.46</td>\n",
       "    </tr>\n",
       "    <tr>\n",
       "      <th>Rest of Asia</th>\n",
       "      <td>3091.50</td>\n",
       "      <td>1473.26</td>\n",
       "      <td>982.94</td>\n",
       "      <td>1296.29</td>\n",
       "      <td>2267.15</td>\n",
       "      <td>6843.99</td>\n",
       "    </tr>\n",
       "    <tr>\n",
       "      <th>Rest of World</th>\n",
       "      <td>3797.46</td>\n",
       "      <td>1858.57</td>\n",
       "      <td>1219.84</td>\n",
       "      <td>1498.31</td>\n",
       "      <td>2701.75</td>\n",
       "      <td>8374.18</td>\n",
       "    </tr>\n",
       "  </tbody>\n",
       "</table>\n",
       "</div>"
      ],
      "text/plain": [
       "               iPhone_sales  iPad_sales  Mac_sales  Wearable_sales  \\\n",
       "Region                                                               \n",
       "Europe              3563.12     1745.66    1111.22         1353.12   \n",
       "Greater China       3868.28     1862.95    1212.80         1514.86   \n",
       "North America       3124.14     1625.44    1028.96         1272.92   \n",
       "Rest of Asia        3091.50     1473.26     982.94         1296.29   \n",
       "Rest of World       3797.46     1858.57    1219.84         1498.31   \n",
       "\n",
       "               Services_Revenue  Total_sales  \n",
       "Region                                        \n",
       "Europe                  2416.30      7773.12  \n",
       "Greater China           2780.72      8458.89  \n",
       "North America           2281.21      7051.46  \n",
       "Rest of Asia            2267.15      6843.99  \n",
       "Rest of World           2701.75      8374.18  "
      ]
     },
     "execution_count": 17,
     "metadata": {},
     "output_type": "execute_result"
    }
   ],
   "source": [
    "# First, lets aggregate the dataframe on the region column, and drop the state column.\n",
    "\n",
    "region_df = df.drop(columns='State').groupby('Region').sum()\n",
    "\n",
    "region_df"
   ]
  },
  {
   "cell_type": "markdown",
   "metadata": {},
   "source": [
    "Having only 5 regions, we can draw conclusions pretty easily from the dataframe now. It seems that the Greater China region had the highest units sold in every category besides iMacs, with the rest of world claiming first place. I wonder how much of the total sales went to the Greater China region?"
   ]
  },
  {
   "cell_type": "code",
   "execution_count": 26,
   "metadata": {},
   "outputs": [
    {
     "data": {
      "image/png": "[encoded data removed]",
      "text/plain": [
       "<Figure size 600x400 with 1 Axes>"
      ]
     },
     "metadata": {},
     "output_type": "display_data"
    }
   ],
   "source": [
    "# First lets calculate percent of sales\n",
    "total_sales = region_df['Total_sales'].sum()\n",
    "\n",
    "# now calculate the percentage of sales per region\n",
    "region_df['%_of_sales'] = region_df['Total_sales'] / total_sales * 100\n",
    "\n",
    "# lets visualize the results\n",
    "plt.figure(figsize=(6,4))\n",
    "plt.pie(region_df['%_of_sales'], labels=region_df.index, autopct='%1.1f%%', startangle=140)\n",
    "plt.title('Distribution of Apples total sales in 2024');"
   ]
  },
  {
   "cell_type": "markdown",
   "metadata": {},
   "source": [
    "It seems that every region plays its role in units sold, with sales distributed almost equally across the world."
   ]
  },
  {
   "cell_type": "markdown",
   "metadata": {},
   "source": [
    "Now that we explored the data a bit, and calculated the total units sold per state, lets go back to our question: Does increased services revenue lead to an increase in product sales? Lets look at a visual representation first."
   ]
  },
  {
   "cell_type": "code",
   "execution_count": 44,
   "metadata": {},
   "outputs": [
    {
     "data": {
      "image/png": "[encoded data removed]",
      "text/plain": [
       "<Figure size 600x400 with 1 Axes>"
      ]
     },
     "metadata": {},
     "output_type": "display_data"
    }
   ],
   "source": [
    "plt.figure(figsize=(6, 4))\n",
    "sns.scatterplot(x='Services_Revenue', y='Total_sales', data=df)\n",
    "plt.title('Services Revenue vs Total Product Sales')\n",
    "plt.xlabel('Services Revenue')\n",
    "plt.ylabel('Product Sales')\n",
    "plt.show()"
   ]
  },
  {
   "cell_type": "markdown",
   "metadata": {},
   "source": [
    "There seems to be no correlation here, but to be sure, lets calculate the correlation coefficient between the total sales and services revenue columns."
   ]
  },
  {
   "cell_type": "code",
   "execution_count": 43,
   "metadata": {},
   "outputs": [
    {
     "data": {
      "text/html": [
       "<div>\n",
       "<style scoped>\n",
       "    .dataframe tbody tr th:only-of-type {\n",
       "        vertical-align: middle;\n",
       "    }\n",
       "\n",
       "    .dataframe tbody tr th {\n",
       "        vertical-align: top;\n",
       "    }\n",
       "\n",
       "    .dataframe thead th {\n",
       "        text-align: right;\n",
       "    }\n",
       "</style>\n",
       "<table border=\"1\" class=\"dataframe\">\n",
       "  <thead>\n",
       "    <tr style=\"text-align: right;\">\n",
       "      <th></th>\n",
       "      <th>Total_sales</th>\n",
       "      <th>Services_Revenue</th>\n",
       "    </tr>\n",
       "  </thead>\n",
       "  <tbody>\n",
       "    <tr>\n",
       "      <th>Total_sales</th>\n",
       "      <td>1.000000</td>\n",
       "      <td>-0.001904</td>\n",
       "    </tr>\n",
       "    <tr>\n",
       "      <th>Services_Revenue</th>\n",
       "      <td>-0.001904</td>\n",
       "      <td>1.000000</td>\n",
       "    </tr>\n",
       "  </tbody>\n",
       "</table>\n",
       "</div>"
      ],
      "text/plain": [
       "                  Total_sales  Services_Revenue\n",
       "Total_sales          1.000000         -0.001904\n",
       "Services_Revenue    -0.001904          1.000000"
      ]
     },
     "execution_count": 43,
     "metadata": {},
     "output_type": "execute_result"
    }
   ],
   "source": [
    "df[['Total_sales', 'Services_Revenue']].corr()"
   ]
  },
  {
   "cell_type": "markdown",
   "metadata": {},
   "source": [
    "The correlation coefficient is close to 0, meaning that there is no correlation between the services revenue, and total product sales."
   ]
  },
  {
   "cell_type": "markdown",
   "metadata": {},
   "source": [
    "### Summary\n",
    "\n",
    "* After initial investigation of the data, we found that there were no missing values, and no duplicates.\n",
    "* based on our columns, we came up with the the null Hypothesis: **An increase in sales revenue does not lead to an increase in product sales**\n",
    "* We explored the data, identifying the cities and regions with the highest sales in millions of units per product, and also calculated the average number of units sold per city in 2024.\n",
    "* We found that our data is not normally distributed across any column.\n",
    "* We calculated the total number of units sold across products, which was then used in correlation against the sales revenue to determine if there was a link between the two.\n",
    "* With a correlation coefficient of -0.001, we can accept our null hypothesis, that an increase in sales revenue does not lead to an increase in product sales."
   ]
  }
 ],
 "metadata": {
  "kernelspec": {
   "display_name": "Python 3",
   "language": "python",
   "name": "python3"
  },
  "language_info": {
   "codemirror_mode": {
    "name": "ipython",
    "version": 3
   },
   "file_extension": ".py",
   "mimetype": "text/x-python",
   "name": "python",
   "nbconvert_exporter": "python",
   "pygments_lexer": "ipython3",
   "version": "3.12.4"
  }
 },
 "nbformat": 4,
 "nbformat_minor": 2
}
